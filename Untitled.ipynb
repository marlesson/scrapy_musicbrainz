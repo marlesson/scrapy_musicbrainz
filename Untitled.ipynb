{
 "cells": [
  {
   "cell_type": "code",
   "execution_count": 1,
   "metadata": {},
   "outputs": [],
   "source": [
    "import pandas as pd\n",
    "import json"
   ]
  },
  {
   "cell_type": "code",
   "execution_count": 11,
   "metadata": {},
   "outputs": [
    {
     "data": {
      "text/html": [
       "<div>\n",
       "<style scoped>\n",
       "    .dataframe tbody tr th:only-of-type {\n",
       "        vertical-align: middle;\n",
       "    }\n",
       "\n",
       "    .dataframe tbody tr th {\n",
       "        vertical-align: top;\n",
       "    }\n",
       "\n",
       "    .dataframe thead th {\n",
       "        text-align: right;\n",
       "    }\n",
       "</style>\n",
       "<table border=\"1\" class=\"dataframe\">\n",
       "  <thead>\n",
       "    <tr style=\"text-align: right;\">\n",
       "      <th></th>\n",
       "      <th>area</th>\n",
       "      <th>begin_area</th>\n",
       "      <th>begin_date</th>\n",
       "      <th>gender</th>\n",
       "      <th>genre</th>\n",
       "      <th>id</th>\n",
       "      <th>name</th>\n",
       "      <th>rating</th>\n",
       "      <th>tags</th>\n",
       "      <th>type</th>\n",
       "      <th>uri</th>\n",
       "    </tr>\n",
       "  </thead>\n",
       "  <tbody>\n",
       "    <tr>\n",
       "      <th>0</th>\n",
       "      <td>France</td>\n",
       "      <td>None</td>\n",
       "      <td>1969</td>\n",
       "      <td>Male</td>\n",
       "      <td>(none)</td>\n",
       "      <td>6f3d4a7b-45b2-4c08-9306-8d271e92cb4f</td>\n",
       "      <td>None</td>\n",
       "      <td>NaN</td>\n",
       "      <td>(none)</td>\n",
       "      <td>Person</td>\n",
       "      <td>https://musicbrainz.org/artist/6f3d4a7b-45b2-4...</td>\n",
       "    </tr>\n",
       "    <tr>\n",
       "      <th>1</th>\n",
       "      <td>Sweden</td>\n",
       "      <td>Stockholm</td>\n",
       "      <td>1979-05-16</td>\n",
       "      <td>Male</td>\n",
       "      <td>(none)</td>\n",
       "      <td>7d99d976-c247-4756-a250-f3de5c190866</td>\n",
       "      <td>Faber, Rasmus</td>\n",
       "      <td>NaN</td>\n",
       "      <td>(none)</td>\n",
       "      <td>Person</td>\n",
       "      <td>https://musicbrainz.org/artist/7d99d976-c247-4...</td>\n",
       "    </tr>\n",
       "    <tr>\n",
       "      <th>2</th>\n",
       "      <td>None</td>\n",
       "      <td>None</td>\n",
       "      <td>None</td>\n",
       "      <td>None</td>\n",
       "      <td>(none)</td>\n",
       "      <td>b025b6c9-b103-4d51-a0e0-07893ae6e52b</td>\n",
       "      <td>Lost Men, The</td>\n",
       "      <td>NaN</td>\n",
       "      <td>(none)</td>\n",
       "      <td>Group</td>\n",
       "      <td>https://musicbrainz.org/artist/b025b6c9-b103-4...</td>\n",
       "    </tr>\n",
       "    <tr>\n",
       "      <th>3</th>\n",
       "      <td>United Kingdom</td>\n",
       "      <td>Nottingham</td>\n",
       "      <td>2000</td>\n",
       "      <td>None</td>\n",
       "      <td>(none)</td>\n",
       "      <td>0a77bec1-12ef-4caa-b36a-f533001fcd29</td>\n",
       "      <td>None</td>\n",
       "      <td>4.0</td>\n",
       "      <td>dance and electronica</td>\n",
       "      <td>Group</td>\n",
       "      <td>https://musicbrainz.org/artist/0a77bec1-12ef-4...</td>\n",
       "    </tr>\n",
       "    <tr>\n",
       "      <th>4</th>\n",
       "      <td>Germany</td>\n",
       "      <td>Berlin</td>\n",
       "      <td>1976-11-12</td>\n",
       "      <td>Female</td>\n",
       "      <td>(none)</td>\n",
       "      <td>b9b1efa6-8e01-4726-a9d5-0f96f5fd23d9</td>\n",
       "      <td>Holofernes, Judith</td>\n",
       "      <td>NaN</td>\n",
       "      <td>(none)</td>\n",
       "      <td>Person</td>\n",
       "      <td>https://musicbrainz.org/artist/b9b1efa6-8e01-4...</td>\n",
       "    </tr>\n",
       "  </tbody>\n",
       "</table>\n",
       "</div>"
      ],
      "text/plain": [
       "             area  begin_area  begin_date  gender   genre  \\\n",
       "0          France        None        1969    Male  (none)   \n",
       "1          Sweden   Stockholm  1979-05-16    Male  (none)   \n",
       "2            None        None        None    None  (none)   \n",
       "3  United Kingdom  Nottingham        2000    None  (none)   \n",
       "4         Germany      Berlin  1976-11-12  Female  (none)   \n",
       "\n",
       "                                     id                name  rating  \\\n",
       "0  6f3d4a7b-45b2-4c08-9306-8d271e92cb4f                None     NaN   \n",
       "1  7d99d976-c247-4756-a250-f3de5c190866       Faber, Rasmus     NaN   \n",
       "2  b025b6c9-b103-4d51-a0e0-07893ae6e52b       Lost Men, The     NaN   \n",
       "3  0a77bec1-12ef-4caa-b36a-f533001fcd29                None     4.0   \n",
       "4  b9b1efa6-8e01-4726-a9d5-0f96f5fd23d9  Holofernes, Judith     NaN   \n",
       "\n",
       "                    tags    type  \\\n",
       "0                 (none)  Person   \n",
       "1                 (none)  Person   \n",
       "2                 (none)   Group   \n",
       "3  dance and electronica   Group   \n",
       "4                 (none)  Person   \n",
       "\n",
       "                                                 uri  \n",
       "0  https://musicbrainz.org/artist/6f3d4a7b-45b2-4...  \n",
       "1  https://musicbrainz.org/artist/7d99d976-c247-4...  \n",
       "2  https://musicbrainz.org/artist/b025b6c9-b103-4...  \n",
       "3  https://musicbrainz.org/artist/0a77bec1-12ef-4...  \n",
       "4  https://musicbrainz.org/artist/b9b1efa6-8e01-4...  "
      ]
     },
     "execution_count": 11,
     "metadata": {},
     "output_type": "execute_result"
    }
   ],
   "source": [
    "df = pd.read_json(\"./artists_meta/artists.txt\",  lines=True)\n",
    "df.head()"
   ]
  },
  {
   "cell_type": "code",
   "execution_count": 12,
   "metadata": {},
   "outputs": [
    {
     "data": {
      "text/plain": [
       "(100901, 11)"
      ]
     },
     "execution_count": 12,
     "metadata": {},
     "output_type": "execute_result"
    }
   ],
   "source": [
    "df.shape"
   ]
  },
  {
   "cell_type": "code",
   "execution_count": 13,
   "metadata": {},
   "outputs": [],
   "source": [
    "#df['genre'] = df['genre'].apply(lambda x: x.replace(\",\", \"|\"))\n",
    "#df['tags'] = df['tags'].apply(lambda x: x.replace(\",\", \"|\"))"
   ]
  },
  {
   "cell_type": "code",
   "execution_count": null,
   "metadata": {},
   "outputs": [],
   "source": []
  },
  {
   "cell_type": "code",
   "execution_count": 14,
   "metadata": {},
   "outputs": [],
   "source": [
    "df.set_index(\"id\").to_csv(\"artists_meta.csv\")"
   ]
  },
  {
   "cell_type": "code",
   "execution_count": null,
   "metadata": {},
   "outputs": [],
   "source": []
  }
 ],
 "metadata": {
  "kernelspec": {
   "display_name": "Python 3.7.3 64-bit ('base': conda)",
   "language": "python",
   "name": "python37364bitbaseconda71fa0390d2e947479e80d6476a063090"
  },
  "language_info": {
   "codemirror_mode": {
    "name": "ipython",
    "version": 3
   },
   "file_extension": ".py",
   "mimetype": "text/x-python",
   "name": "python",
   "nbconvert_exporter": "python",
   "pygments_lexer": "ipython3",
   "version": "3.7.3"
  },
  "toc": {
   "base_numbering": 1,
   "nav_menu": {},
   "number_sections": true,
   "sideBar": true,
   "skip_h1_title": false,
   "title_cell": "Table of Contents",
   "title_sidebar": "Contents",
   "toc_cell": false,
   "toc_position": {},
   "toc_section_display": true,
   "toc_window_display": false
  }
 },
 "nbformat": 4,
 "nbformat_minor": 2
}
